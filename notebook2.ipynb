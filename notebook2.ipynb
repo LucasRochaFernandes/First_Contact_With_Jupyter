{
 "cells": [
  {
   "cell_type": "code",
   "execution_count": 202,
   "metadata": {},
   "outputs": [
    {
     "data": {
      "text/html": [
       "<div>\n",
       "<style scoped>\n",
       "    .dataframe tbody tr th:only-of-type {\n",
       "        vertical-align: middle;\n",
       "    }\n",
       "\n",
       "    .dataframe tbody tr th {\n",
       "        vertical-align: top;\n",
       "    }\n",
       "\n",
       "    .dataframe thead th {\n",
       "        text-align: right;\n",
       "    }\n",
       "</style>\n",
       "<table border=\"1\" class=\"dataframe\">\n",
       "  <thead>\n",
       "    <tr style=\"text-align: right;\">\n",
       "      <th></th>\n",
       "      <th>Aluno</th>\n",
       "      <th>Nota P1</th>\n",
       "      <th>Nota P2</th>\n",
       "      <th>N1</th>\n",
       "      <th>Nota P3</th>\n",
       "      <th>Nota P4</th>\n",
       "      <th>N2</th>\n",
       "      <th>Resultado</th>\n",
       "    </tr>\n",
       "  </thead>\n",
       "  <tbody>\n",
       "    <tr>\n",
       "      <th>0</th>\n",
       "      <td>Lucas</td>\n",
       "      <td>8.5</td>\n",
       "      <td>2.0</td>\n",
       "      <td>2.0</td>\n",
       "      <td>2.0</td>\n",
       "      <td>2.0</td>\n",
       "      <td>2.0</td>\n",
       "      <td>2.0</td>\n",
       "    </tr>\n",
       "    <tr>\n",
       "      <th>1</th>\n",
       "      <td>Lucas</td>\n",
       "      <td>8.5</td>\n",
       "      <td>2.0</td>\n",
       "      <td>2.0</td>\n",
       "      <td>2.0</td>\n",
       "      <td>2.0</td>\n",
       "      <td>2.0</td>\n",
       "      <td>2.0</td>\n",
       "    </tr>\n",
       "    <tr>\n",
       "      <th>2</th>\n",
       "      <td>Lucas</td>\n",
       "      <td>8.5</td>\n",
       "      <td>5.0</td>\n",
       "      <td>5.0</td>\n",
       "      <td>5.0</td>\n",
       "      <td>5.0</td>\n",
       "      <td>5.0</td>\n",
       "      <td>5.0</td>\n",
       "    </tr>\n",
       "    <tr>\n",
       "      <th>3</th>\n",
       "      <td>Felipe</td>\n",
       "      <td>9.8</td>\n",
       "      <td>8.8</td>\n",
       "      <td>8.8</td>\n",
       "      <td>8.8</td>\n",
       "      <td>8.8</td>\n",
       "      <td>8.8</td>\n",
       "      <td>8.8</td>\n",
       "    </tr>\n",
       "  </tbody>\n",
       "</table>\n",
       "</div>"
      ],
      "text/plain": [
       "    Aluno  Nota P1  Nota P2   N1  Nota P3  Nota P4   N2  Resultado\n",
       "0   Lucas      8.5      2.0  2.0      2.0      2.0  2.0        2.0\n",
       "1   Lucas      8.5      2.0  2.0      2.0      2.0  2.0        2.0\n",
       "2   Lucas      8.5      5.0  5.0      5.0      5.0  5.0        5.0\n",
       "3  Felipe      9.8      8.8  8.8      8.8      8.8  8.8        8.8"
      ]
     },
     "execution_count": 202,
     "metadata": {},
     "output_type": "execute_result"
    }
   ],
   "source": [
    "import pandas as pd\n",
    "import numpy as np\n",
    "\n",
    "try:\n",
    "    df_excel = pd.read_excel('./planilhas/dataEx.xlsx', \n",
    "    )\n",
    "except Exception as ex:\n",
    "    print(ex.args)\n",
    "\n",
    "df_excel"
   ]
  },
  {
   "cell_type": "code",
   "execution_count": 203,
   "metadata": {},
   "outputs": [
    {
     "name": "stdout",
     "output_type": "stream",
     "text": [
      "Lenght Dataframe before:  4\n"
     ]
    },
    {
     "data": {
      "text/html": [
       "<div>\n",
       "<style scoped>\n",
       "    .dataframe tbody tr th:only-of-type {\n",
       "        vertical-align: middle;\n",
       "    }\n",
       "\n",
       "    .dataframe tbody tr th {\n",
       "        vertical-align: top;\n",
       "    }\n",
       "\n",
       "    .dataframe thead th {\n",
       "        text-align: right;\n",
       "    }\n",
       "</style>\n",
       "<table border=\"1\" class=\"dataframe\">\n",
       "  <thead>\n",
       "    <tr style=\"text-align: right;\">\n",
       "      <th></th>\n",
       "      <th>Aluno</th>\n",
       "      <th>Nota P1</th>\n",
       "      <th>Nota P2</th>\n",
       "      <th>N1</th>\n",
       "      <th>Nota P3</th>\n",
       "      <th>Nota P4</th>\n",
       "      <th>N2</th>\n",
       "      <th>Resultado</th>\n",
       "    </tr>\n",
       "  </thead>\n",
       "  <tbody>\n",
       "    <tr>\n",
       "      <th>2</th>\n",
       "      <td>Lucas</td>\n",
       "      <td>8.5</td>\n",
       "      <td>5.0</td>\n",
       "      <td>5.0</td>\n",
       "      <td>5.0</td>\n",
       "      <td>5.0</td>\n",
       "      <td>5.0</td>\n",
       "      <td>5.0</td>\n",
       "    </tr>\n",
       "    <tr>\n",
       "      <th>3</th>\n",
       "      <td>Felipe</td>\n",
       "      <td>9.8</td>\n",
       "      <td>8.8</td>\n",
       "      <td>8.8</td>\n",
       "      <td>8.8</td>\n",
       "      <td>8.8</td>\n",
       "      <td>8.8</td>\n",
       "      <td>8.8</td>\n",
       "    </tr>\n",
       "  </tbody>\n",
       "</table>\n",
       "</div>"
      ],
      "text/plain": [
       "    Aluno  Nota P1  Nota P2   N1  Nota P3  Nota P4   N2  Resultado\n",
       "2   Lucas      8.5      5.0  5.0      5.0      5.0  5.0        5.0\n",
       "3  Felipe      9.8      8.8  8.8      8.8      8.8  8.8        8.8"
      ]
     },
     "execution_count": 203,
     "metadata": {},
     "output_type": "execute_result"
    }
   ],
   "source": [
    "print('Lenght Dataframe before: ', len(df_excel))\n",
    "\n",
    "df_excel.drop_duplicates(keep=False,inplace=True)\n",
    "\n",
    "df_excel\n"
   ]
  },
  {
   "cell_type": "code",
   "execution_count": 204,
   "metadata": {},
   "outputs": [
    {
     "data": {
      "text/html": [
       "<div>\n",
       "<style scoped>\n",
       "    .dataframe tbody tr th:only-of-type {\n",
       "        vertical-align: middle;\n",
       "    }\n",
       "\n",
       "    .dataframe tbody tr th {\n",
       "        vertical-align: top;\n",
       "    }\n",
       "\n",
       "    .dataframe thead th {\n",
       "        text-align: right;\n",
       "    }\n",
       "</style>\n",
       "<table border=\"1\" class=\"dataframe\">\n",
       "  <thead>\n",
       "    <tr style=\"text-align: right;\">\n",
       "      <th></th>\n",
       "      <th>Aluno</th>\n",
       "      <th>Nota P1</th>\n",
       "      <th>Nota P2</th>\n",
       "      <th>N1</th>\n",
       "      <th>Nota P3</th>\n",
       "      <th>Nota P4</th>\n",
       "      <th>N2</th>\n",
       "      <th>Resultado</th>\n",
       "    </tr>\n",
       "    <tr>\n",
       "      <th>index</th>\n",
       "      <th></th>\n",
       "      <th></th>\n",
       "      <th></th>\n",
       "      <th></th>\n",
       "      <th></th>\n",
       "      <th></th>\n",
       "      <th></th>\n",
       "      <th></th>\n",
       "    </tr>\n",
       "  </thead>\n",
       "  <tbody>\n",
       "    <tr>\n",
       "      <th>2</th>\n",
       "      <td>Lucas</td>\n",
       "      <td>8.5</td>\n",
       "      <td>5.0</td>\n",
       "      <td>5.0</td>\n",
       "      <td>5.0</td>\n",
       "      <td>5.0</td>\n",
       "      <td>5.0</td>\n",
       "      <td>5.0</td>\n",
       "    </tr>\n",
       "    <tr>\n",
       "      <th>3</th>\n",
       "      <td>Felipe</td>\n",
       "      <td>9.8</td>\n",
       "      <td>8.8</td>\n",
       "      <td>8.8</td>\n",
       "      <td>8.8</td>\n",
       "      <td>8.8</td>\n",
       "      <td>8.8</td>\n",
       "      <td>8.8</td>\n",
       "    </tr>\n",
       "  </tbody>\n",
       "</table>\n",
       "</div>"
      ],
      "text/plain": [
       "        Aluno  Nota P1  Nota P2   N1  Nota P3  Nota P4   N2  Resultado\n",
       "index                                                                 \n",
       "2       Lucas      8.5      5.0  5.0      5.0      5.0  5.0        5.0\n",
       "3      Felipe      9.8      8.8  8.8      8.8      8.8  8.8        8.8"
      ]
     },
     "execution_count": 204,
     "metadata": {},
     "output_type": "execute_result"
    }
   ],
   "source": [
    "df_excel = df_excel.reset_index()\n",
    "df_excel.set_index('index',inplace=True)\n",
    "df_excel"
   ]
  },
  {
   "cell_type": "code",
   "execution_count": 205,
   "metadata": {},
   "outputs": [
    {
     "name": "stdout",
     "output_type": "stream",
     "text": [
      "             Email      Nome  Notas\n",
      "0  lucasrochaf2018     Lucas     85\n",
      "1   Luisrochaf2020      Luis     31\n",
      "2       Pedrof2022     Pedro     48\n",
      "3        Eddief018     Eddie     11\n",
      "4           fera89  Fernando     27\n"
     ]
    },
    {
     "data": {
      "text/plain": [
       "['lucasrochaf2018', 'Luisrochaf2020', 'Pedrof2022', 'Eddief018', 'fera89']"
      ]
     },
     "execution_count": 205,
     "metadata": {},
     "output_type": "execute_result"
    }
   ],
   "source": [
    "import pandas as pd\n",
    "\n",
    "df = pd.read_csv('./csvs/dataCS.csv', sep=';')\n",
    "email_list = df['Email'].tolist()\n",
    "print(df)\n",
    "email_list"
   ]
  },
  {
   "cell_type": "code",
   "execution_count": 206,
   "metadata": {},
   "outputs": [],
   "source": [
    "for index, row in df_excel.iterrows():\n",
    "    Student = str(row['Aluno'])\n"
   ]
  },
  {
   "cell_type": "code",
   "execution_count": 207,
   "metadata": {},
   "outputs": [],
   "source": [
    "df.set_index('Email', inplace=True)\n"
   ]
  },
  {
   "cell_type": "code",
   "execution_count": 209,
   "metadata": {},
   "outputs": [
    {
     "name": "stderr",
     "output_type": "stream",
     "text": [
      "/tmp/ipykernel_5763/3533786013.py:10: FutureWarning: The frame.append method is deprecated and will be removed from pandas in a future version. Use pandas.concat instead.\n",
      "  df_email_result.append({'Email': email, 'Notas': result}, ignore_index=True)\n"
     ]
    },
    {
     "data": {
      "text/html": [
       "<div>\n",
       "<style scoped>\n",
       "    .dataframe tbody tr th:only-of-type {\n",
       "        vertical-align: middle;\n",
       "    }\n",
       "\n",
       "    .dataframe tbody tr th {\n",
       "        vertical-align: top;\n",
       "    }\n",
       "\n",
       "    .dataframe thead th {\n",
       "        text-align: right;\n",
       "    }\n",
       "</style>\n",
       "<table border=\"1\" class=\"dataframe\">\n",
       "  <thead>\n",
       "    <tr style=\"text-align: right;\">\n",
       "      <th></th>\n",
       "      <th>Email</th>\n",
       "      <th>Notas</th>\n",
       "    </tr>\n",
       "  </thead>\n",
       "  <tbody>\n",
       "  </tbody>\n",
       "</table>\n",
       "</div>"
      ],
      "text/plain": [
       "Empty DataFrame\n",
       "Columns: [Email, Notas]\n",
       "Index: []"
      ]
     },
     "execution_count": 209,
     "metadata": {},
     "output_type": "execute_result"
    }
   ],
   "source": [
    "\n",
    "import math\n",
    "df_email_result = pd.DataFrame(columns=['Email', 'Notas'])\n",
    "df_email_result.reset_index()\n",
    "\n",
    "for index, row in df.iterrows():\n",
    "    student = str(row['Nome'])\n",
    "    email = row.name\n",
    "    result = df_excel['Resultado'].where(student == df_excel['Aluno'])[2]\n",
    "    if not math.isnan(result):\n",
    "        df_email_result.append({'Email': email, 'Notas': result}, ignore_index=True)\n",
    "        \n",
    "\n",
    "\n",
    "   \n",
    "    \n",
    "df_email_result"
   ]
  }
 ],
 "metadata": {
  "interpreter": {
   "hash": "a76c1488f7067eefc379dbbcc232fc16ff6b9c221453e7a365115c58b0179ccb"
  },
  "kernelspec": {
   "display_name": "Python 3.8.10 ('.venv': venv)",
   "language": "python",
   "name": "python3"
  },
  "language_info": {
   "codemirror_mode": {
    "name": "ipython",
    "version": 3
   },
   "file_extension": ".py",
   "mimetype": "text/x-python",
   "name": "python",
   "nbconvert_exporter": "python",
   "pygments_lexer": "ipython3",
   "version": "3.8.10"
  },
  "orig_nbformat": 4
 },
 "nbformat": 4,
 "nbformat_minor": 2
}
