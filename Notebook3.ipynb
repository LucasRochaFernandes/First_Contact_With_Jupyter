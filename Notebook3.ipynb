{
 "cells": [
  {
   "cell_type": "code",
   "execution_count": 2,
   "metadata": {},
   "outputs": [
    {
     "name": "stdout",
     "output_type": "stream",
     "text": [
      "             Email      Nome  Notas\n",
      "0  lucasrochaf2018     Lucas     85\n",
      "1   Luisrochaf2020      Luis     31\n",
      "2       Pedrof2022     Pedro     48\n",
      "3        Eddief018     Eddie     11\n",
      "4           fera89  Fernando     27\n"
     ]
    },
    {
     "data": {
      "text/plain": [
       "['lucasrochaf2018', 'Luisrochaf2020', 'Pedrof2022', 'Eddief018', 'fera89']"
      ]
     },
     "execution_count": 2,
     "metadata": {},
     "output_type": "execute_result"
    }
   ],
   "source": [
    "import pandas as pd\n",
    "\n",
    "df = pd.read_csv('./csvs/dataCS.csv', sep=';')\n",
    "email_list = df['Email'].tolist()\n",
    "print(df)\n",
    "email_list"
   ]
  },
  {
   "cell_type": "code",
   "execution_count": 3,
   "metadata": {},
   "outputs": [],
   "source": [
    "from utils import saveTable\n",
    "\n",
    "saveTable.save_table('teste','sim',df)"
   ]
  }
 ],
 "metadata": {
  "interpreter": {
   "hash": "a76c1488f7067eefc379dbbcc232fc16ff6b9c221453e7a365115c58b0179ccb"
  },
  "kernelspec": {
   "display_name": "Python 3.8.10 ('.venv': venv)",
   "language": "python",
   "name": "python3"
  },
  "language_info": {
   "codemirror_mode": {
    "name": "ipython",
    "version": 3
   },
   "file_extension": ".py",
   "mimetype": "text/x-python",
   "name": "python",
   "nbconvert_exporter": "python",
   "pygments_lexer": "ipython3",
   "version": "3.8.10"
  },
  "orig_nbformat": 4
 },
 "nbformat": 4,
 "nbformat_minor": 2
}
